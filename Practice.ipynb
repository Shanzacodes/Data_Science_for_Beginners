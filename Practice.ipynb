{
  "nbformat": 4,
  "nbformat_minor": 0,
  "metadata": {
    "colab": {
      "name": "Practice",
      "provenance": []
    },
    "kernelspec": {
      "name": "python3",
      "display_name": "Python 3"
    },
    "language_info": {
      "name": "python"
    }
  },
  "cells": [
    {
      "cell_type": "code",
      "execution_count": 22,
      "metadata": {
        "colab": {
          "base_uri": "https://localhost:8080/",
          "height": 424
        },
        "id": "jYTUHVL9_ECy",
        "outputId": "af8b16c1-d1e3-40ee-de1d-51409dbd4003"
      },
      "outputs": [
        {
          "output_type": "execute_result",
          "data": {
            "text/plain": [
              "             Timestamp  Gender    Age  Location Time_of_class (pm)  \\\n",
              "0    1/3/2022 19:09:29    Male  16-30  Pakistan              10:30   \n",
              "1    1/3/2022 19:09:33    Male  16-30  Pakistan              10:00   \n",
              "2    1/3/2022 19:09:33    Male  16-30  Pakistan              10:00   \n",
              "3    1/3/2022 19:09:33    Male  30-40  Pakistan              09:30   \n",
              "4    1/3/2022 19:09:34    Male  16-30      East              09:30   \n",
              "..                 ...     ...    ...       ...                ...   \n",
              "301  1/3/2022 19:11:51    Male  16-30  Pakistan              09:30   \n",
              "302  1/3/2022 19:11:52    Male  16-30  Pakistan              10:30   \n",
              "303  1/3/2022 19:11:53    Male  16-30  Pakistan              10:00   \n",
              "304  1/3/2022 19:11:54  Female  16-30  Pakistan              10:30   \n",
              "305  1/3/2022 19:11:55    Male  16-30  Pakistan              10:30   \n",
              "\n",
              "     Duration_(min)  \n",
              "0                60  \n",
              "1                60  \n",
              "2                30  \n",
              "3                30  \n",
              "4                60  \n",
              "..              ...  \n",
              "301              30  \n",
              "302              45  \n",
              "303              60  \n",
              "304              60  \n",
              "305              45  \n",
              "\n",
              "[306 rows x 6 columns]"
            ],
            "text/html": [
              "\n",
              "  <div id=\"df-9bdd8ff5-73ec-4424-9376-3d78ce08cb07\">\n",
              "    <div class=\"colab-df-container\">\n",
              "      <div>\n",
              "<style scoped>\n",
              "    .dataframe tbody tr th:only-of-type {\n",
              "        vertical-align: middle;\n",
              "    }\n",
              "\n",
              "    .dataframe tbody tr th {\n",
              "        vertical-align: top;\n",
              "    }\n",
              "\n",
              "    .dataframe thead th {\n",
              "        text-align: right;\n",
              "    }\n",
              "</style>\n",
              "<table border=\"1\" class=\"dataframe\">\n",
              "  <thead>\n",
              "    <tr style=\"text-align: right;\">\n",
              "      <th></th>\n",
              "      <th>Timestamp</th>\n",
              "      <th>Gender</th>\n",
              "      <th>Age</th>\n",
              "      <th>Location</th>\n",
              "      <th>Time_of_class (pm)</th>\n",
              "      <th>Duration_(min)</th>\n",
              "    </tr>\n",
              "  </thead>\n",
              "  <tbody>\n",
              "    <tr>\n",
              "      <th>0</th>\n",
              "      <td>1/3/2022 19:09:29</td>\n",
              "      <td>Male</td>\n",
              "      <td>16-30</td>\n",
              "      <td>Pakistan</td>\n",
              "      <td>10:30</td>\n",
              "      <td>60</td>\n",
              "    </tr>\n",
              "    <tr>\n",
              "      <th>1</th>\n",
              "      <td>1/3/2022 19:09:33</td>\n",
              "      <td>Male</td>\n",
              "      <td>16-30</td>\n",
              "      <td>Pakistan</td>\n",
              "      <td>10:00</td>\n",
              "      <td>60</td>\n",
              "    </tr>\n",
              "    <tr>\n",
              "      <th>2</th>\n",
              "      <td>1/3/2022 19:09:33</td>\n",
              "      <td>Male</td>\n",
              "      <td>16-30</td>\n",
              "      <td>Pakistan</td>\n",
              "      <td>10:00</td>\n",
              "      <td>30</td>\n",
              "    </tr>\n",
              "    <tr>\n",
              "      <th>3</th>\n",
              "      <td>1/3/2022 19:09:33</td>\n",
              "      <td>Male</td>\n",
              "      <td>30-40</td>\n",
              "      <td>Pakistan</td>\n",
              "      <td>09:30</td>\n",
              "      <td>30</td>\n",
              "    </tr>\n",
              "    <tr>\n",
              "      <th>4</th>\n",
              "      <td>1/3/2022 19:09:34</td>\n",
              "      <td>Male</td>\n",
              "      <td>16-30</td>\n",
              "      <td>East</td>\n",
              "      <td>09:30</td>\n",
              "      <td>60</td>\n",
              "    </tr>\n",
              "    <tr>\n",
              "      <th>...</th>\n",
              "      <td>...</td>\n",
              "      <td>...</td>\n",
              "      <td>...</td>\n",
              "      <td>...</td>\n",
              "      <td>...</td>\n",
              "      <td>...</td>\n",
              "    </tr>\n",
              "    <tr>\n",
              "      <th>301</th>\n",
              "      <td>1/3/2022 19:11:51</td>\n",
              "      <td>Male</td>\n",
              "      <td>16-30</td>\n",
              "      <td>Pakistan</td>\n",
              "      <td>09:30</td>\n",
              "      <td>30</td>\n",
              "    </tr>\n",
              "    <tr>\n",
              "      <th>302</th>\n",
              "      <td>1/3/2022 19:11:52</td>\n",
              "      <td>Male</td>\n",
              "      <td>16-30</td>\n",
              "      <td>Pakistan</td>\n",
              "      <td>10:30</td>\n",
              "      <td>45</td>\n",
              "    </tr>\n",
              "    <tr>\n",
              "      <th>303</th>\n",
              "      <td>1/3/2022 19:11:53</td>\n",
              "      <td>Male</td>\n",
              "      <td>16-30</td>\n",
              "      <td>Pakistan</td>\n",
              "      <td>10:00</td>\n",
              "      <td>60</td>\n",
              "    </tr>\n",
              "    <tr>\n",
              "      <th>304</th>\n",
              "      <td>1/3/2022 19:11:54</td>\n",
              "      <td>Female</td>\n",
              "      <td>16-30</td>\n",
              "      <td>Pakistan</td>\n",
              "      <td>10:30</td>\n",
              "      <td>60</td>\n",
              "    </tr>\n",
              "    <tr>\n",
              "      <th>305</th>\n",
              "      <td>1/3/2022 19:11:55</td>\n",
              "      <td>Male</td>\n",
              "      <td>16-30</td>\n",
              "      <td>Pakistan</td>\n",
              "      <td>10:30</td>\n",
              "      <td>45</td>\n",
              "    </tr>\n",
              "  </tbody>\n",
              "</table>\n",
              "<p>306 rows × 6 columns</p>\n",
              "</div>\n",
              "      <button class=\"colab-df-convert\" onclick=\"convertToInteractive('df-9bdd8ff5-73ec-4424-9376-3d78ce08cb07')\"\n",
              "              title=\"Convert this dataframe to an interactive table.\"\n",
              "              style=\"display:none;\">\n",
              "        \n",
              "  <svg xmlns=\"http://www.w3.org/2000/svg\" height=\"24px\"viewBox=\"0 0 24 24\"\n",
              "       width=\"24px\">\n",
              "    <path d=\"M0 0h24v24H0V0z\" fill=\"none\"/>\n",
              "    <path d=\"M18.56 5.44l.94 2.06.94-2.06 2.06-.94-2.06-.94-.94-2.06-.94 2.06-2.06.94zm-11 1L8.5 8.5l.94-2.06 2.06-.94-2.06-.94L8.5 2.5l-.94 2.06-2.06.94zm10 10l.94 2.06.94-2.06 2.06-.94-2.06-.94-.94-2.06-.94 2.06-2.06.94z\"/><path d=\"M17.41 7.96l-1.37-1.37c-.4-.4-.92-.59-1.43-.59-.52 0-1.04.2-1.43.59L10.3 9.45l-7.72 7.72c-.78.78-.78 2.05 0 2.83L4 21.41c.39.39.9.59 1.41.59.51 0 1.02-.2 1.41-.59l7.78-7.78 2.81-2.81c.8-.78.8-2.07 0-2.86zM5.41 20L4 18.59l7.72-7.72 1.47 1.35L5.41 20z\"/>\n",
              "  </svg>\n",
              "      </button>\n",
              "      \n",
              "  <style>\n",
              "    .colab-df-container {\n",
              "      display:flex;\n",
              "      flex-wrap:wrap;\n",
              "      gap: 12px;\n",
              "    }\n",
              "\n",
              "    .colab-df-convert {\n",
              "      background-color: #E8F0FE;\n",
              "      border: none;\n",
              "      border-radius: 50%;\n",
              "      cursor: pointer;\n",
              "      display: none;\n",
              "      fill: #1967D2;\n",
              "      height: 32px;\n",
              "      padding: 0 0 0 0;\n",
              "      width: 32px;\n",
              "    }\n",
              "\n",
              "    .colab-df-convert:hover {\n",
              "      background-color: #E2EBFA;\n",
              "      box-shadow: 0px 1px 2px rgba(60, 64, 67, 0.3), 0px 1px 3px 1px rgba(60, 64, 67, 0.15);\n",
              "      fill: #174EA6;\n",
              "    }\n",
              "\n",
              "    [theme=dark] .colab-df-convert {\n",
              "      background-color: #3B4455;\n",
              "      fill: #D2E3FC;\n",
              "    }\n",
              "\n",
              "    [theme=dark] .colab-df-convert:hover {\n",
              "      background-color: #434B5C;\n",
              "      box-shadow: 0px 1px 3px 1px rgba(0, 0, 0, 0.15);\n",
              "      filter: drop-shadow(0px 1px 2px rgba(0, 0, 0, 0.3));\n",
              "      fill: #FFFFFF;\n",
              "    }\n",
              "  </style>\n",
              "\n",
              "      <script>\n",
              "        const buttonEl =\n",
              "          document.querySelector('#df-9bdd8ff5-73ec-4424-9376-3d78ce08cb07 button.colab-df-convert');\n",
              "        buttonEl.style.display =\n",
              "          google.colab.kernel.accessAllowed ? 'block' : 'none';\n",
              "\n",
              "        async function convertToInteractive(key) {\n",
              "          const element = document.querySelector('#df-9bdd8ff5-73ec-4424-9376-3d78ce08cb07');\n",
              "          const dataTable =\n",
              "            await google.colab.kernel.invokeFunction('convertToInteractive',\n",
              "                                                     [key], {});\n",
              "          if (!dataTable) return;\n",
              "\n",
              "          const docLinkHtml = 'Like what you see? Visit the ' +\n",
              "            '<a target=\"_blank\" href=https://colab.research.google.com/notebooks/data_table.ipynb>data table notebook</a>'\n",
              "            + ' to learn more about interactive tables.';\n",
              "          element.innerHTML = '';\n",
              "          dataTable['output_type'] = 'display_data';\n",
              "          await google.colab.output.renderOutput(dataTable, element);\n",
              "          const docLink = document.createElement('div');\n",
              "          docLink.innerHTML = docLinkHtml;\n",
              "          element.appendChild(docLink);\n",
              "        }\n",
              "      </script>\n",
              "    </div>\n",
              "  </div>\n",
              "  "
            ]
          },
          "metadata": {},
          "execution_count": 22
        }
      ],
      "source": [
        "import pandas as pd\n",
        "data = pd.read_csv('/content/drive/MyDrive/data_viz.csv')\n",
        "data"
      ]
    },
    {
      "cell_type": "code",
      "source": [
        "import seaborn as sns\n",
        "import pandas as pd\n",
        "import matplotlib.pyplot as plt\n",
        "\n",
        "data = pd.read_csv('/content/drive/MyDrive/data_viz.csv')\n",
        "data\n",
        "sns.set(style = 'darkgrid')\n",
        "sns.lineplot(x='Age', y='Duration_(min)', data= data)\n",
        "\n",
        "plt.xlabel(\"duration in min\",size=16),\n",
        "plt.ylabel(\"age\",size=16),\n",
        "plt.title(\"Age and duration in min\",size=16,weight='bold')\n",
        "plt.show()\n"
      ],
      "metadata": {
        "colab": {
          "base_uri": "https://localhost:8080/",
          "height": 305
        },
        "id": "1U7CtwX1JURS",
        "outputId": "e3036a64-e262-4117-fb6c-5a6e84246938"
      },
      "execution_count": 39,
      "outputs": [
        {
          "output_type": "display_data",
          "data": {
            "text/plain": [
              "<Figure size 432x288 with 1 Axes>"
            ],
            "image/png": "[encoded data removed]"
          },
          "metadata": {}
        }
      ]
    },
    {
      "cell_type": "code",
      "source": [
        "import seaborn as sns\n",
        "import pandas as pd\n",
        "import matplotlib.pyplot as plt\n",
        "\n",
        "data = pd.read_csv('/content/drive/MyDrive/data_viz.csv')\n",
        "data\n",
        "sns.set(style = 'whitegrid')\n",
        "\n",
        "sns.barplot(x='Location', y='Duration_(min)', saturation =2, palette = 'Set1', data = data)\n",
        "\n",
        "plt.xlabel(\"location\",size=16),\n",
        "plt.ylabel(\"duration in mins\",size=16),\n",
        "plt.title(\"location and duration\",size=16,weight='bold')\n",
        "plt.show()"
      ],
      "metadata": {
        "colab": {
          "base_uri": "https://localhost:8080/",
          "height": 305
        },
        "id": "dM4K3CSJN7rk",
        "outputId": "dbc0232f-030e-422c-e753-1c32d6c108c9"
      },
      "execution_count": 46,
      "outputs": [
        {
          "output_type": "display_data",
          "data": {
            "text/plain": [
              "<Figure size 432x288 with 1 Axes>"
            ],
            "image/png": "[encoded data removed]"
          },
          "metadata": {}
        }
      ]
    },
    {
      "cell_type": "code",
      "source": [
        "import seaborn as sns \n",
        "import pandas as pd\n",
        "import matplotlib.pyplot as plt\n",
        "\n",
        "data = pd.read_csv('/content/drive/MyDrive/data_viz.csv')\n",
        "data\n",
        "\n",
        "sns.set(style = 'dark')\n",
        "sns.boxplot(x='Gender', y='Duration_(min)', saturation=1.5, palette='Pastel2', data=data)"
      ],
      "metadata": {
        "colab": {
          "base_uri": "https://localhost:8080/",
          "height": 302
        },
        "id": "da5vMPZNSZ7C",
        "outputId": "2c945012-0cea-4b69-d956-2c70c21fadf6"
      },
      "execution_count": 54,
      "outputs": [
        {
          "output_type": "execute_result",
          "data": {
            "text/plain": [
              "<matplotlib.axes._subplots.AxesSubplot at 0x7fa04dac8e50>"
            ]
          },
          "metadata": {},
          "execution_count": 54
        },
        {
          "output_type": "display_data",
          "data": {
            "text/plain": [
              "<Figure size 432x288 with 1 Axes>"
            ],
            "image/png": "[encoded data removed]"
          },
          "metadata": {}
        }
      ]
    }
  ]
}